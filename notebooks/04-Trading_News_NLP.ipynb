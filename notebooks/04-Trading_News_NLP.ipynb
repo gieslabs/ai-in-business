{
 "cells": [
  {
   "cell_type": "markdown",
   "metadata": {},
   "source": [
    "# Natural Language Processing for Signal Generation on News Data"
   ]
  },
  {
   "cell_type": "markdown",
   "metadata": {},
   "source": [
    "### Intraday Sentiment Strategy"
   ]
  },
  {
   "cell_type": "markdown",
   "metadata": {},
   "source": [
    "To illustrate the power of Sentiment Analysis we'll construct and backtest a simple strategy.\n",
    "- Trade intraday over the year of 2013\n",
    "- Companies: \n",
    "    - Apple, Microsoft, Boeing, JPMorgan, Google, GM, Citigroup, Ford, Toyota, HSBC, ICAP\n",
    "- Assume perfect market entry and exit, no transaction fees\n",
    "- Sentiment score is the confidence of a text being positive or negative.\n",
    "- Basic strategy: \n",
    "    - BUY when 'sentiment_score' >= 'sentiment_cutoff' and SELL 'time_to_close_position' minutes later. \n",
    "    - SHORT SELL when 'sentiment_score' <= -'sentiment_cutoff' and BUY 'time_to_close_position' minutes later. \n",
    "    - If news is released when market is closed then BUY as soon as it is open."
   ]
  },
  {
   "cell_type": "code",
   "execution_count": 6,
   "metadata": {},
   "outputs": [],
   "source": [
    "import numpy as np\n",
    "import pandas as pd\n",
    "from datetime import datetime, date, timedelta,time\n",
    "from ipywidgets import widgets\n",
    "import matplotlib.pyplot as plt\n",
    "\n",
    "signal_df = pd.read_csv(\"../data/news_data/sentiment_backtest_data.csv\")"
   ]
  },
  {
   "cell_type": "code",
   "execution_count": 7,
   "metadata": {},
   "outputs": [],
   "source": [
    "def run_strat(cutoff,delay,txn_fee = 0.0, output_daily_agg = False):\n",
    "    assert cutoff <=1.0 and cutoff>=0.0\n",
    "    assert delay > 0 and delay <=60 and delay % 5 ==0\n",
    "\n",
    "    upper = cutoff\n",
    "    lower = -cutoff\n",
    "    score = \"sentiment_score\"\n",
    "    buy_signals = np.array([1 if i> upper else 0 for i in signal_df[score]])\n",
    "    sell_signals = np.array([1 if i< lower else 0 for i in signal_df[score]])\n",
    "    signals = buy_signals-sell_signals\n",
    "    longs = buy_signals.sum()\n",
    "    shorts = sell_signals.sum()\n",
    "    fees = txn_fee*(buy_signals+sell_signals)\n",
    "    name = \"ret_delay_{}\".format(delay)\n",
    "    datetimes = signal_df.datetime.astype('datetime64[ns]')\n",
    "    ret = signal_df[name] * signals\n",
    "    adj_ret = ret - fees\n",
    "    cum_ret = np.cumsum(ret)\n",
    "    adj_cum_ret = np.cumsum(adj_ret)\n",
    "            \n",
    "    output = \"\"\"Sentiment News Strategy \n",
    "    cutoff strength: {}\n",
    "    delay in mins: {}\n",
    "    txn fees/trade: {}\n",
    "    adj_cum_ret: {}\"\"\".format(cutoff,delay,txn_fee,adj_ret.sum())\n",
    "    #print(output)\n",
    "    strategy_result = pd.DataFrame({ \n",
    "                        \"datetime\" : datetimes.values,\n",
    "                        \"adj_cum_return\" : adj_cum_ret.values,\n",
    "                       \"cum_return\" : cum_ret.values,\n",
    "                       \"adj_return\" : adj_ret.values,\n",
    "                       \"return\" : ret.values})\n",
    "    if not output_daily_agg:\n",
    "        return strategy_result\n",
    "    \n",
    "    filtered_index = []\n",
    "    current_date,prev_index = None, 0\n",
    "    for i,datum in enumerate(strategy_result.itertuples()):\n",
    "            \n",
    "        prev_date = strategy_result.iloc[i-1].datetime.date()\n",
    "        curr_date = strategy_result.iloc[i].datetime.date()\n",
    "        \n",
    "        ## if date change:\n",
    "        if prev_date < curr_date:\n",
    "            filtered_index.append(i-1)\n",
    "        \n",
    "            \n",
    "        \n",
    "    return strategy_result.iloc[filtered_index]"
   ]
  },
  {
   "cell_type": "code",
   "execution_count": 8,
   "metadata": {},
   "outputs": [],
   "source": [
    "def display_backtest(time_till_close_position,sentiment_cutoff):\n",
    "    strat_results = run_strat(sentiment_cutoff,time_till_close_position,txn_fee = 0.0, output_daily_agg = True)\n",
    "    fig, ax = plt.subplots()\n",
    "    dates = strat_results.datetime.map(lambda x: x.date())\n",
    "    ax.plot_date(x = dates, y=strat_results.cum_return.values,fmt='-b')\n",
    "    ax.set_ylabel(\"Cumulative Return\")\n",
    "    datemin = dates.min()\n",
    "    datemax = dates.max()\n",
    "    ax.set_xlim(datemin, datemax)\n",
    "\n",
    "    fig.autofmt_xdate()\n",
    "    plt.show()"
   ]
  },
  {
   "cell_type": "code",
   "execution_count": 9,
   "metadata": {},
   "outputs": [],
   "source": [
    "def interactive_backtest():\n",
    "    widgets.interact(display_backtest,time_till_close_position=(5,60,5),sentiment_cutoff=(0,1.00,0.05))"
   ]
  },
  {
   "cell_type": "code",
   "execution_count": 10,
   "metadata": {},
   "outputs": [
    {
     "data": {
      "application/vnd.jupyter.widget-view+json": {
       "model_id": "2c860e01c0194d13bad20d388171e450",
       "version_major": 2,
       "version_minor": 0
      },
      "text/plain": [
       "interactive(children=(IntSlider(value=30, description='time_till_close_position', max=60, min=5, step=5), Floa…"
      ]
     },
     "metadata": {},
     "output_type": "display_data"
    }
   ],
   "source": [
    "interactive_backtest()"
   ]
  },
  {
   "cell_type": "raw",
   "metadata": {},
   "source": [
    "## News Processing for Risk Management (Optional)"
   ]
  },
  {
   "cell_type": "markdown",
   "metadata": {},
   "source": [
    "Another use case of News in trading is the ability to monitor portfolio holdings and mitigate risk. Being able to identify the possibility of a drop in a stock's price or observing that the market is reacting to the release of particular news can be a useful component in managing risk."
   ]
  },
  {
   "cell_type": "markdown",
   "metadata": {},
   "source": [
    "### Case Study: Apple cuts iPhone X production due to weak demand:"
   ]
  },
  {
   "cell_type": "markdown",
   "metadata": {},
   "source": [
    "News reported on the Nikkei on Monday, January 29th revealed that Apple would cut its production target for the iPhone X from 40 to 20 million units. Apple's stock did not react well, in the wake of the reports stock fell even further even after it was already on the downtrend due to earnings reports. In this case we can see that Apple's stock price is correlated to the sentiment on the news articles related to the iPhone.\n",
    "\n"
   ]
  },
  {
   "cell_type": "markdown",
   "metadata": {},
   "source": [
    "<img src=\"../imgs/apple_price.png\">"
   ]
  },
  {
   "cell_type": "markdown",
   "metadata": {},
   "source": [
    "<img src=\"../imgs/apple_sentiment.png\">"
   ]
  },
  {
   "cell_type": "markdown",
   "metadata": {},
   "source": [
    "### Case Study:  Aimia Inc Receives Notice of Contract Non-renewal from Air Canada"
   ]
  },
  {
   "cell_type": "markdown",
   "metadata": {},
   "source": [
    "Aimia Inc is a data-driven marketing and loyalty analytics company. On May 11th, 2017 the company announced that Air Canada, its largest client had given its notice of non-renewal. The market responded accordingly with a sharp drop in price. The relative volume of articles on Aimia on the few days leading up to the announcement skyrocketed. A drastic change in the volume can be a signal for redirecting attention to certain companies. "
   ]
  },
  {
   "cell_type": "markdown",
   "metadata": {},
   "source": [
    "<img src=\"../imgs/aimia_price.png\">"
   ]
  },
  {
   "cell_type": "markdown",
   "metadata": {},
   "source": [
    "<img src=\"../imgs/aimia_vol.png\">"
   ]
  },
  {
   "cell_type": "markdown",
   "metadata": {},
   "source": [
    "### References"
   ]
  },
  {
   "cell_type": "markdown",
   "metadata": {},
   "source": [
    "- Glove: https://nlp.stanford.edu/projects/glove/\n",
    "- Fasttext: https://fasttext.cc/\n",
    "- News articles per day: https://www.slideshare.net/chartbeat/mockup-infographicv4-27900399\n",
    "- News data source: https://github.com/philipperemy/financial-news-dataset\n",
    "- Word embeddings: https://www.analyticsvidhya.com/blog/2017/06/word-embeddings-count-word2veec/, \n",
    "- Natural Language Processing: https://en.wikipedia.org/wiki/Natural-language_processing\n",
    "- Sentiment Analysis: https://en.wikipedia.org/wiki/Sentiment_analysis\n"
   ]
  }
 ],
 "metadata": {
  "hide_input": false,
  "kernelspec": {
   "display_name": "Python 3",
   "language": "python",
   "name": "python3"
  },
  "language_info": {
   "codemirror_mode": {
    "name": "ipython",
    "version": 3
   },
   "file_extension": ".py",
   "mimetype": "text/x-python",
   "name": "python",
   "nbconvert_exporter": "python",
   "pygments_lexer": "ipython3",
   "version": "3.7.1"
  },
  "toc": {
   "nav_menu": {},
   "number_sections": false,
   "sideBar": true,
   "skip_h1_title": false,
   "toc_cell": false,
   "toc_position": {},
   "toc_section_display": "block",
   "toc_window_display": false
  }
 },
 "nbformat": 4,
 "nbformat_minor": 2
}
