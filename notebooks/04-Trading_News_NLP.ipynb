{
 "cells": [
  {
   "cell_type": "markdown",
   "metadata": {},
   "source": [
    "# Natural Language Processing for Signal Generation on News Data"
   ]
  },
  {
   "cell_type": "markdown",
   "metadata": {},
   "source": [
    "### Load Package and Dataset"
   ]
  },
  {
   "cell_type": "code",
   "execution_count": 6,
   "metadata": {},
   "outputs": [
    {
     "data": {
      "text/html": [
       "<div>\n",
       "<style scoped>\n",
       "    .dataframe tbody tr th:only-of-type {\n",
       "        vertical-align: middle;\n",
       "    }\n",
       "\n",
       "    .dataframe tbody tr th {\n",
       "        vertical-align: top;\n",
       "    }\n",
       "\n",
       "    .dataframe thead th {\n",
       "        text-align: right;\n",
       "    }\n",
       "</style>\n",
       "<table border=\"1\" class=\"dataframe\">\n",
       "  <thead>\n",
       "    <tr style=\"text-align: right;\">\n",
       "      <th></th>\n",
       "      <th>ID</th>\n",
       "      <th>article</th>\n",
       "      <th>headline</th>\n",
       "      <th>timestamp</th>\n",
       "      <th>url</th>\n",
       "      <th>tldr</th>\n",
       "      <th>sentiment_score</th>\n",
       "      <th>datetime</th>\n",
       "      <th>dates</th>\n",
       "      <th>organization</th>\n",
       "      <th>...</th>\n",
       "      <th>ret_delay_15</th>\n",
       "      <th>ret_delay_20</th>\n",
       "      <th>ret_delay_25</th>\n",
       "      <th>ret_delay_30</th>\n",
       "      <th>ret_delay_35</th>\n",
       "      <th>ret_delay_40</th>\n",
       "      <th>ret_delay_45</th>\n",
       "      <th>ret_delay_50</th>\n",
       "      <th>ret_delay_55</th>\n",
       "      <th>ret_delay_60</th>\n",
       "    </tr>\n",
       "  </thead>\n",
       "  <tbody>\n",
       "    <tr>\n",
       "      <th>0</th>\n",
       "      <td>48856</td>\n",
       "      <td>SAN FRANCISCO  (Reuters) - Microsoft Corp bou...</td>\n",
       "      <td>Microsoft acquires start-up id8: source</td>\n",
       "      <td>2013-01-02 07:30:00</td>\n",
       "      <td>http://www.reuters.com/article/2013/01/03/us-m...</td>\n",
       "      <td>SAN FRANCISCO  (Reuters) - Microsoft Corp boug...</td>\n",
       "      <td>0.935871</td>\n",
       "      <td>2013-01-02 07:30:00</td>\n",
       "      <td>2013-01-02</td>\n",
       "      <td>Microsoft</td>\n",
       "      <td>...</td>\n",
       "      <td>-0.005795</td>\n",
       "      <td>-0.005433</td>\n",
       "      <td>-0.006157</td>\n",
       "      <td>-0.005074</td>\n",
       "      <td>-0.004346</td>\n",
       "      <td>-0.003622</td>\n",
       "      <td>-0.003984</td>\n",
       "      <td>-0.004872</td>\n",
       "      <td>0.000000</td>\n",
       "      <td>-0.006882</td>\n",
       "    </tr>\n",
       "    <tr>\n",
       "      <th>1</th>\n",
       "      <td>48818</td>\n",
       "      <td>(Reuters) - Apple Inc has started testing a n...</td>\n",
       "      <td>Apple testing new iPhone, iOS 7: report</td>\n",
       "      <td>2013-01-02 12:01:00</td>\n",
       "      <td>http://www.reuters.com/article/2013/01/02/us-a...</td>\n",
       "      <td>(Reuters) - Apple Inc has started testing a ne...</td>\n",
       "      <td>0.833388</td>\n",
       "      <td>2013-01-02 12:01:00</td>\n",
       "      <td>2013-01-02</td>\n",
       "      <td>Apple</td>\n",
       "      <td>...</td>\n",
       "      <td>0.000237</td>\n",
       "      <td>0.000803</td>\n",
       "      <td>0.001260</td>\n",
       "      <td>0.000219</td>\n",
       "      <td>0.000037</td>\n",
       "      <td>0.000256</td>\n",
       "      <td>0.000310</td>\n",
       "      <td>-0.000610</td>\n",
       "      <td>-0.000566</td>\n",
       "      <td>-0.000402</td>\n",
       "    </tr>\n",
       "    <tr>\n",
       "      <th>2</th>\n",
       "      <td>392899</td>\n",
       "      <td>bond equal to 88 percent of the value of smart...</td>\n",
       "      <td>Apple, Brandywine, Pinterest: Intellectual Pro...</td>\n",
       "      <td>2013-01-02 12:01:01</td>\n",
       "      <td>http://www.bloomberg.com/news/2013-01-02/apple...</td>\n",
       "      <td>U.S. International Trade Commission Judge Thom...</td>\n",
       "      <td>0.888212</td>\n",
       "      <td>2013-01-02 12:01:01</td>\n",
       "      <td>2013-01-02</td>\n",
       "      <td>Apple</td>\n",
       "      <td>...</td>\n",
       "      <td>0.000237</td>\n",
       "      <td>0.000803</td>\n",
       "      <td>0.001260</td>\n",
       "      <td>0.000219</td>\n",
       "      <td>0.000037</td>\n",
       "      <td>0.000256</td>\n",
       "      <td>0.000310</td>\n",
       "      <td>-0.000610</td>\n",
       "      <td>-0.000566</td>\n",
       "      <td>-0.000402</td>\n",
       "    </tr>\n",
       "    <tr>\n",
       "      <th>3</th>\n",
       "      <td>392921</td>\n",
       "      <td>upgraded single-aisle 737s from Aviation Capit...</td>\n",
       "      <td>Boeing 737 Max Orders Top 1,000 on $6 Billion ...</td>\n",
       "      <td>2013-01-02 21:24:21</td>\n",
       "      <td>http://www.bloomberg.com/news/2013-01-02/boein...</td>\n",
       "      <td>upgraded single-aisle 737s from Aviation Capit...</td>\n",
       "      <td>0.854389</td>\n",
       "      <td>2013-01-02 21:24:21</td>\n",
       "      <td>2013-01-02</td>\n",
       "      <td>Boeing</td>\n",
       "      <td>...</td>\n",
       "      <td>0.000000</td>\n",
       "      <td>0.000000</td>\n",
       "      <td>0.000000</td>\n",
       "      <td>0.000000</td>\n",
       "      <td>0.000000</td>\n",
       "      <td>0.000000</td>\n",
       "      <td>0.000000</td>\n",
       "      <td>0.000000</td>\n",
       "      <td>0.000000</td>\n",
       "      <td>0.000000</td>\n",
       "    </tr>\n",
       "    <tr>\n",
       "      <th>4</th>\n",
       "      <td>393037</td>\n",
       "      <td>Group Inc. (GS)  and  Barclays Plc (BARC)  are...</td>\n",
       "      <td>JPMorgan Among 65 to Register as Swap Dealers ...</td>\n",
       "      <td>2013-01-03 02:02:58</td>\n",
       "      <td>http://www.bloomberg.com/news/2013-01-02/jpmor...</td>\n",
       "      <td>“This is at the heart of financial reform: dea...</td>\n",
       "      <td>-0.621498</td>\n",
       "      <td>2013-01-03 02:02:58</td>\n",
       "      <td>2013-01-03</td>\n",
       "      <td>JPMorgan</td>\n",
       "      <td>...</td>\n",
       "      <td>0.006442</td>\n",
       "      <td>0.006523</td>\n",
       "      <td>0.006185</td>\n",
       "      <td>0.007400</td>\n",
       "      <td>0.005173</td>\n",
       "      <td>0.004273</td>\n",
       "      <td>0.005173</td>\n",
       "      <td>0.005848</td>\n",
       "      <td>0.005848</td>\n",
       "      <td>0.005623</td>\n",
       "    </tr>\n",
       "  </tbody>\n",
       "</table>\n",
       "<p>5 rows × 23 columns</p>\n",
       "</div>"
      ],
      "text/plain": [
       "       ID                                            article  \\\n",
       "0   48856   SAN FRANCISCO  (Reuters) - Microsoft Corp bou...   \n",
       "1   48818   (Reuters) - Apple Inc has started testing a n...   \n",
       "2  392899  bond equal to 88 percent of the value of smart...   \n",
       "3  392921  upgraded single-aisle 737s from Aviation Capit...   \n",
       "4  393037  Group Inc. (GS)  and  Barclays Plc (BARC)  are...   \n",
       "\n",
       "                                            headline            timestamp  \\\n",
       "0            Microsoft acquires start-up id8: source  2013-01-02 07:30:00   \n",
       "1            Apple testing new iPhone, iOS 7: report  2013-01-02 12:01:00   \n",
       "2  Apple, Brandywine, Pinterest: Intellectual Pro...  2013-01-02 12:01:01   \n",
       "3  Boeing 737 Max Orders Top 1,000 on $6 Billion ...  2013-01-02 21:24:21   \n",
       "4  JPMorgan Among 65 to Register as Swap Dealers ...  2013-01-03 02:02:58   \n",
       "\n",
       "                                                 url  \\\n",
       "0  http://www.reuters.com/article/2013/01/03/us-m...   \n",
       "1  http://www.reuters.com/article/2013/01/02/us-a...   \n",
       "2  http://www.bloomberg.com/news/2013-01-02/apple...   \n",
       "3  http://www.bloomberg.com/news/2013-01-02/boein...   \n",
       "4  http://www.bloomberg.com/news/2013-01-02/jpmor...   \n",
       "\n",
       "                                                tldr  sentiment_score  \\\n",
       "0  SAN FRANCISCO  (Reuters) - Microsoft Corp boug...         0.935871   \n",
       "1  (Reuters) - Apple Inc has started testing a ne...         0.833388   \n",
       "2  U.S. International Trade Commission Judge Thom...         0.888212   \n",
       "3  upgraded single-aisle 737s from Aviation Capit...         0.854389   \n",
       "4  “This is at the heart of financial reform: dea...        -0.621498   \n",
       "\n",
       "              datetime       dates organization      ...      ret_delay_15  \\\n",
       "0  2013-01-02 07:30:00  2013-01-02    Microsoft      ...         -0.005795   \n",
       "1  2013-01-02 12:01:00  2013-01-02        Apple      ...          0.000237   \n",
       "2  2013-01-02 12:01:01  2013-01-02        Apple      ...          0.000237   \n",
       "3  2013-01-02 21:24:21  2013-01-02       Boeing      ...          0.000000   \n",
       "4  2013-01-03 02:02:58  2013-01-03     JPMorgan      ...          0.006442   \n",
       "\n",
       "   ret_delay_20  ret_delay_25  ret_delay_30  ret_delay_35  ret_delay_40  \\\n",
       "0     -0.005433     -0.006157     -0.005074     -0.004346     -0.003622   \n",
       "1      0.000803      0.001260      0.000219      0.000037      0.000256   \n",
       "2      0.000803      0.001260      0.000219      0.000037      0.000256   \n",
       "3      0.000000      0.000000      0.000000      0.000000      0.000000   \n",
       "4      0.006523      0.006185      0.007400      0.005173      0.004273   \n",
       "\n",
       "   ret_delay_45  ret_delay_50  ret_delay_55  ret_delay_60  \n",
       "0     -0.003984     -0.004872      0.000000     -0.006882  \n",
       "1      0.000310     -0.000610     -0.000566     -0.000402  \n",
       "2      0.000310     -0.000610     -0.000566     -0.000402  \n",
       "3      0.000000      0.000000      0.000000      0.000000  \n",
       "4      0.005173      0.005848      0.005848      0.005623  \n",
       "\n",
       "[5 rows x 23 columns]"
      ]
     },
     "execution_count": 6,
     "metadata": {},
     "output_type": "execute_result"
    }
   ],
   "source": [
    "import numpy as np\n",
    "import pandas as pd\n",
    "from datetime import datetime, date, timedelta,time\n",
    "from ipywidgets import widgets\n",
    "import matplotlib.pyplot as plt\n",
    "\n",
    "signal_df = pd.read_csv(\"../data/news_data/sentiment_backtest_data.csv\")\n",
    "signal_df.head()"
   ]
  },
  {
   "cell_type": "markdown",
   "metadata": {},
   "source": [
    "### Intraday Sentiment Strategy"
   ]
  },
  {
   "cell_type": "markdown",
   "metadata": {},
   "source": [
    "To illustrate the power of Sentiment Analysis we'll construct and backtest a simple strategy.\n",
    "- Trade intraday over the year of 2013\n",
    "- Companies: \n",
    "    - Apple, Microsoft, Boeing, JPMorgan, Google, GM, Citigroup, Ford, Toyota, HSBC, ICAP\n",
    "- Assume perfect market entry and exit, no transaction fees\n",
    "- Sentiment score is the confidence of a text being positive or negative.\n",
    "- Basic strategy: \n",
    "    - BUY when 'sentiment_score' >= 'sentiment_cutoff' and SELL 'time_to_close_position' minutes later. \n",
    "    - SHORT SELL when 'sentiment_score' <= -'sentiment_cutoff' and BUY 'time_to_close_position' minutes later. \n",
    "    - If news is released when market is closed then BUY as soon as it is open."
   ]
  },
  {
   "cell_type": "code",
   "execution_count": 2,
   "metadata": {},
   "outputs": [],
   "source": [
    "def run_strat(cutoff,delay,txn_fee = 0.0, output_daily_agg = False):\n",
    "    assert cutoff <=1.0 and cutoff>=0.0\n",
    "    assert delay > 0 and delay <=60 and delay % 5 ==0\n",
    "\n",
    "    upper = cutoff\n",
    "    lower = -cutoff\n",
    "    score = \"sentiment_score\"\n",
    "    \n",
    "    buy_signals = np.array([1 if i> upper else 0 for i in signal_df[score]])\n",
    "    sell_signals = np.array([1 if i< lower else 0 for i in signal_df[score]])\n",
    "    signals = buy_signals-sell_signals\n",
    "    \n",
    "    longs = buy_signals.sum()\n",
    "    shorts = sell_signals.sum()\n",
    "    fees = txn_fee*(buy_signals+sell_signals)\n",
    "    name = \"ret_delay_{}\".format(delay)\n",
    "    datetimes = signal_df.datetime.astype('datetime64[ns]')\n",
    "    ret = signal_df[name] * signals\n",
    "    adj_ret = ret - fees\n",
    "    cum_ret = np.cumsum(ret)\n",
    "    adj_cum_ret = np.cumsum(adj_ret)\n",
    "            \n",
    "    output = \"\"\"Sentiment News Strategy \n",
    "    cutoff strength: {}\n",
    "    delay in mins: {}\n",
    "    txn fees/trade: {}\n",
    "    adj_cum_ret: {}\"\"\".format(cutoff,delay,txn_fee,adj_ret.sum())\n",
    "    #print(output)\n",
    "    strategy_result = pd.DataFrame({ \n",
    "                        \"datetime\" : datetimes.values,\n",
    "                        \"adj_cum_return\" : adj_cum_ret.values,\n",
    "                       \"cum_return\" : cum_ret.values,\n",
    "                       \"adj_return\" : adj_ret.values,\n",
    "                       \"return\" : ret.values})\n",
    "    if not output_daily_agg:\n",
    "        return strategy_result\n",
    "    \n",
    "    filtered_index = []\n",
    "    current_date,prev_index = None, 0\n",
    "    for i,datum in enumerate(strategy_result.itertuples()):\n",
    "            \n",
    "        prev_date = strategy_result.iloc[i-1].datetime.date()\n",
    "        curr_date = strategy_result.iloc[i].datetime.date()\n",
    "        \n",
    "        ## if date change:\n",
    "        if prev_date < curr_date:\n",
    "            filtered_index.append(i-1)\n",
    "        \n",
    "            \n",
    "        \n",
    "    return strategy_result.iloc[filtered_index]"
   ]
  },
  {
   "cell_type": "code",
   "execution_count": 3,
   "metadata": {},
   "outputs": [],
   "source": [
    "def display_backtest(time_till_close_position,sentiment_cutoff):\n",
    "    strat_results = run_strat(sentiment_cutoff,time_till_close_position,txn_fee = 0.0, output_daily_agg = True)\n",
    "    fig, ax = plt.subplots()\n",
    "    dates = strat_results.datetime.map(lambda x: x.date())\n",
    "    ax.plot_date(x = dates, y=strat_results.cum_return.values,fmt='-b')\n",
    "    ax.set_ylabel(\"Cumulative Return\")\n",
    "    datemin = dates.min()\n",
    "    datemax = dates.max()\n",
    "    ax.set_xlim(datemin, datemax)\n",
    "\n",
    "    fig.autofmt_xdate()\n",
    "    plt.show()"
   ]
  },
  {
   "cell_type": "code",
   "execution_count": 4,
   "metadata": {},
   "outputs": [],
   "source": [
    "def interactive_backtest():\n",
    "    widgets.interact(display_backtest,time_till_close_position=(5,60,5),sentiment_cutoff=(0,1.00,0.05))"
   ]
  },
  {
   "cell_type": "code",
   "execution_count": 5,
   "metadata": {},
   "outputs": [
    {
     "data": {
      "application/vnd.jupyter.widget-view+json": {
       "model_id": "79b6880f3c7745319da5b17f2069f0fe",
       "version_major": 2,
       "version_minor": 0
      },
      "text/plain": [
       "interactive(children=(IntSlider(value=30, description='time_till_close_position', max=60, min=5, step=5), Floa…"
      ]
     },
     "metadata": {},
     "output_type": "display_data"
    }
   ],
   "source": [
    "interactive_backtest()"
   ]
  },
  {
   "cell_type": "markdown",
   "metadata": {},
   "source": [
    "## News Processing for Risk Management (Optional)"
   ]
  },
  {
   "cell_type": "markdown",
   "metadata": {},
   "source": [
    "Another use case of News in trading is the ability to monitor portfolio holdings and mitigate risk. Being able to identify the possibility of a drop in a stock's price or observing that the market is reacting to the release of particular news can be a useful component in managing risk."
   ]
  },
  {
   "cell_type": "markdown",
   "metadata": {},
   "source": [
    "### Case Study: Apple cuts iPhone X production due to weak demand:"
   ]
  },
  {
   "cell_type": "markdown",
   "metadata": {},
   "source": [
    "News reported on the Nikkei on Monday, January 29th revealed that Apple would cut its production target for the iPhone X from 40 to 20 million units. Apple's stock did not react well, in the wake of the reports stock fell even further even after it was already on the downtrend due to earnings reports. In this case we can see that Apple's stock price is correlated to the sentiment on the news articles related to the iPhone.\n",
    "\n"
   ]
  },
  {
   "cell_type": "markdown",
   "metadata": {},
   "source": [
    "<img src=\"../imgs/apple_price.png\">"
   ]
  },
  {
   "cell_type": "markdown",
   "metadata": {},
   "source": [
    "<img src=\"../imgs/apple_sentiment.png\">"
   ]
  },
  {
   "cell_type": "markdown",
   "metadata": {},
   "source": [
    "### Case Study:  Aimia Inc Receives Notice of Contract Non-renewal from Air Canada"
   ]
  },
  {
   "cell_type": "markdown",
   "metadata": {},
   "source": [
    "Aimia Inc is a data-driven marketing and loyalty analytics company. On May 11th, 2017 the company announced that Air Canada, its largest client had given its notice of non-renewal. The market responded accordingly with a sharp drop in price. The relative volume of articles on Aimia on the few days leading up to the announcement skyrocketed. A drastic change in the volume can be a signal for redirecting attention to certain companies. "
   ]
  },
  {
   "cell_type": "markdown",
   "metadata": {},
   "source": [
    "<img src=\"../imgs/aimia_price.png\">"
   ]
  },
  {
   "cell_type": "markdown",
   "metadata": {},
   "source": [
    "<img src=\"../imgs/aimia_vol.png\">"
   ]
  },
  {
   "cell_type": "markdown",
   "metadata": {},
   "source": [
    "### References"
   ]
  },
  {
   "cell_type": "markdown",
   "metadata": {},
   "source": [
    "- Glove: https://nlp.stanford.edu/projects/glove/\n",
    "- Fasttext: https://fasttext.cc/\n",
    "- News articles per day: https://www.slideshare.net/chartbeat/mockup-infographicv4-27900399\n",
    "- News data source: https://github.com/philipperemy/financial-news-dataset\n",
    "- Word embeddings: https://www.analyticsvidhya.com/blog/2017/06/word-embeddings-count-word2veec/, \n",
    "- Natural Language Processing: https://en.wikipedia.org/wiki/Natural-language_processing\n",
    "- Sentiment Analysis: https://en.wikipedia.org/wiki/Sentiment_analysis\n"
   ]
  }
 ],
 "metadata": {
  "hide_input": false,
  "kernelspec": {
   "display_name": "Python 3",
   "language": "python",
   "name": "python3"
  },
  "language_info": {
   "codemirror_mode": {
    "name": "ipython",
    "version": 3
   },
   "file_extension": ".py",
   "mimetype": "text/x-python",
   "name": "python",
   "nbconvert_exporter": "python",
   "pygments_lexer": "ipython3",
   "version": "3.7.1"
  },
  "toc": {
   "nav_menu": {},
   "number_sections": false,
   "sideBar": true,
   "skip_h1_title": false,
   "toc_cell": false,
   "toc_position": {},
   "toc_section_display": "block",
   "toc_window_display": false
  }
 },
 "nbformat": 4,
 "nbformat_minor": 2
}
