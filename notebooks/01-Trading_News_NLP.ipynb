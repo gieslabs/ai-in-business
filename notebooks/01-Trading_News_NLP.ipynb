{
 "cells": [
  {
   "cell_type": "markdown",
   "metadata": {},
   "source": [
    "# Natural Language Processing for Signal Generation on News Data"
   ]
  },
  {
   "cell_type": "markdown",
   "metadata": {},
   "source": [
    "### Motivation and Goal \n",
    "Stock prices could react significantly to the contents and the presentation of the news release of an impactful story on an industry or company. Hence, news is a great source in the decision-making process of a certain stock's investment. However, the massive amount of news data renders it simply impossible for a human to manually make a systematic approach to trading on news signals. \n",
    "\n",
    "To clearly present this fact:\n",
    "- There are 92000+ news article released per day\n",
    "- An average human can read at a speed of 200-250 words per minute\n",
    "- Reading at this rate, for 8 hours continuously, a human may process up to 40-50 articles per day. This calculation disregards the time it takes to find the articles and make any analysis.\n",
    "\n",
    "In Finance, every second of the decision-making process matters to result in an effective decision. In our model, we can leverage deep learning in order to train models that provide sentiment scores for headlines, articles, tweets, and posts. These sentiments can produce valuable numerical signals to support a buy/sell/hold decision as well as valuation models. \n",
    "\n",
    "This project is about building a NLP pipline that takes news data as input to generate trading signals.(TODO: rewrite this after we got the dataset)"
   ]
  },
  {
   "cell_type": "markdown",
   "metadata": {},
   "source": [
    "### Background/Concepts\n",
    "\n",
    "**What is NLP**\n",
    "\n",
    "Natural Language Processing (NLP) is a field of artificial intelligence that models the interaction between human (natural) language and computers. The goal of an NLP models is to extract information or knowledge from a piece of text.\n",
    "\n",
    "**Sentiment Analysis**\n",
    "\n",
    "This project is about sentiment analysis, which is one of the basic task in NLP. Sentiment analysis is the process of computationally identifying and categorizing opinions expressed in a piece of text, especially in order to determine whether the writer's attitude towards a particular topic, product, etc. is positive, negative, or neutral. \n",
    "\n",
    "**One way how Computers Understand Text**\n",
    "\n",
    "Maching learning and deep learning algorithms can't directly take character/string as input. Therefore, We first have to represent the features(meaning, syntactic structure, ...) from the text by numerical data strcutures before we apply any ML algorithm. The graph belows shows how this process works. The concept shown in the graph will be detailed explained below.\n",
    "<img src=\"../imgs/understand_text.png\">\n",
    "\n",
    "**Word Embeddings**\n",
    "\n",
    "A Word Embedding is a mathematical mapping from a vast dimensional space where each word occupies a dimension to a reduced-dimension, continuous vector space. Typically a large corpus of text is used to train and develop these embeddings.\n",
    "The embedded word vectors captures the meaning of words. Each dimension in these vector captures part of meaning of the corresponding word. This allows the result vector to have several neat features:\n",
    "* Nearest Neighbors - the cosine similarity between two word vectors can be an effective measure of the linguistic or semantic similarity of the corresponding words.\n",
    "* Linear substructures - in contrast to the cosine similarity, an great deal of information is captured in the vector differences between word vectors. GloVe tries to capture the information pertaining to the relationships between words and this can be showcased through the vector differences. \n",
    "<img src=\"../imgs/Word-Vectors.png\">\n",
    "There are various methods to generating word embeddings. These include neural networks, probabilistic models, dimensionality reduction etc. In this project we will use pretrained word embeddings, which means we don't have to worry about generating them.\n",
    "\n",
    "**Nerual Networks**\n",
    "\n",
    "A good way to think about Nerual Networks is to treat them as a mapping f(x). We can train (fit) this f(x) on some data. If we trained it on enough data, it will be able to give good enough result on future prediction. We will talk about how to train and use Nerual Networks in the third notebook.\n",
    "\n",
    "**LSTM/GRU/RNN**\n",
    "\n",
    "These are all nerual networks with similar structure and takes a sequence of data as input. We will talk about them in details in the third notebook.\n",
    "\n"
   ]
  },
  {
   "cell_type": "markdown",
   "metadata": {},
   "source": [
    "### The Complete Model\n",
    "<img src=\"../imgs/model_overview.png\">\n",
    "\n",
    "**Multi-channel LSTM network**\n",
    "\n",
    "Different word embedings contain different information from the text. In this project, we used two different embedings (embeding1 and embeding2) followed by two LSTM (net1 and net2) to generate the features. This provides the network access to more features from seperate word embedings, which leads to more robust result.\n",
    "\n",
    "**Layers**\n",
    "<img src=\"../imgs/layers.jpg\">\n",
    "Nerual Network can be treated as a Composite function, and each layer can be treated as an ingredient function in this composition. The following is a brief introduction about layers we will be using in this project:\n"
   ]
  },
  {
   "cell_type": "markdown",
   "metadata": {},
   "source": [
    "### Toolkit and Packages\n",
    "\n",
    "These are all very popular free Python libraries to work with machine learning and natural language processing. Data types (e.g. numpy arrays and pandas dataframes) are well-supported among these libraries and can be easily converted to one another.\n",
    "\n",
    "* __Data Manipulation__\n",
    "  * _numpy_: Manipulation for large, multi-dimensional arrays and matrices\n",
    "    * Has a large collection of high-level mathematical functions (e.g. element-wise log function)\n",
    "    * Typical data structure: numpy array\n",
    "  * _pandas_: Manipulation and analysis on numerical tables and time series\n",
    "    * Typical data structure: pandas dataframe\n",
    "* __Machine Learning__\n",
    "  * _sklearn_: light weight machine learning packaged tools for classification, regression, and clustering algorithms\n",
    "    * see https://scikit-learn.org/stable/documentation.html for guide and documentation\n",
    "  * _tensorflow_: Popular deep neural network frameworks.\n",
    "    * see https://www.tensorflow.org for guide and documentation\n",
    "  * _keras_: high-level API to build and train deep learning models in tensorflow.\n",
    "    * see https://www.tensorflow.org/guide/keras for guide and documentation\n",
    "  \n",
    "* __Natural Language Processing__\n",
    "  * _nltk_: Natural Language Toolkit\n",
    "    * Tools include classification, tokenization, stemming, tagging, parsing, and semantic reasoning\n",
    "  * _Word Embedings_: files that could be read in to generate the embeding matrix  \n",
    "    * GloVe: Word embeding. See https://nlp.stanford.edu/projects/glove/ for more details.\n",
    "    * FastText: Word embeding. See https://fasttext.cc/docs/en/crawl-vectors.html for more details.\n",
    "* __Utility__\n",
    "  * _tqdm_: Offers progress bar over iterable (e.g. for loop)\n"
   ]
  },
  {
   "cell_type": "markdown",
   "metadata": {},
   "source": [
    "### References\n",
    "\n",
    "- Glove: https://nlp.stanford.edu/projects/glove/\n",
    "- Fasttext: https://fasttext.cc/\n",
    "- News articles per day: https://www.slideshare.net/chartbeat/mockup-infographicv4-27900399\n",
    "- News data source: https://github.com/philipperemy/financial-news-dataset\n",
    "- Word embeddings: https://en.wikipedia.org/wiki/Word_embedding \n",
    "- Natural Language Processing: https://en.wikipedia.org/wiki/Natural-language_processing\n",
    "- Sentiment Analysis: https://en.wikipedia.org/wiki/Sentiment_analysis\n",
    "- keras: https://www.tensorflow.org/guide/keras\n",
    "- Nerual Networks: http://cs231n.github.io/neural-networks-1/\n"
   ]
  },
  {
   "cell_type": "code",
   "execution_count": null,
   "metadata": {},
   "outputs": [],
   "source": []
  }
 ],
 "metadata": {
  "hide_input": false,
  "kernelspec": {
   "display_name": "Python 3",
   "language": "python",
   "name": "python3"
  },
  "language_info": {
   "codemirror_mode": {
    "name": "ipython",
    "version": 3
   },
   "file_extension": ".py",
   "mimetype": "text/x-python",
   "name": "python",
   "nbconvert_exporter": "python",
   "pygments_lexer": "ipython3",
   "version": "3.7.1"
  },
  "toc": {
   "nav_menu": {},
   "number_sections": false,
   "sideBar": true,
   "skip_h1_title": false,
   "toc_cell": false,
   "toc_position": {},
   "toc_section_display": "block",
   "toc_window_display": false
  }
 },
 "nbformat": 4,
 "nbformat_minor": 2
}
